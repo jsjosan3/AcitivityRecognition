{
 "cells": [
  {
   "cell_type": "code",
   "execution_count": 1,
   "id": "71f42be3",
   "metadata": {},
   "outputs": [
    {
     "name": "stderr",
     "output_type": "stream",
     "text": [
      "\n",
      "Bad key \"text.kerning_factor\" on line 4 in\n",
      "C:\\Users\\pc\\anaconda3\\lib\\site-packages\\matplotlib\\mpl-data\\stylelib\\_classic_test_patch.mplstyle.\n",
      "You probably need to get an updated matplotlibrc file from\n",
      "https://github.com/matplotlib/matplotlib/blob/v3.1.2/matplotlibrc.template\n",
      "or from the matplotlib source distribution\n"
     ]
    }
   ],
   "source": [
    "import pandas as pd\n",
    "import os\n",
    "import csv\n",
    "import matplotlib.pyplot as plt\n",
    "import seaborn as sns\n",
    "#from pandas_profiling import ProfileReport"
   ]
  },
  {
   "cell_type": "code",
   "execution_count": 2,
   "id": "72e47a0a",
   "metadata": {},
   "outputs": [
    {
     "name": "stderr",
     "output_type": "stream",
     "text": [
      "C:\\Users\\pc\\anaconda3\\lib\\site-packages\\IPython\\core\\interactiveshell.py:3441: FutureWarning: The error_bad_lines argument has been deprecated and will be removed in a future version.\n",
      "\n",
      "\n",
      "  exec(code_obj, self.user_global_ns, self.user_ns)\n",
      "b'Skipping line 485: expected 7 fields, saw 8\\n'\n",
      "b'Skipping line 485: expected 7 fields, saw 8\\n'\n"
     ]
    }
   ],
   "source": [
    "activities=['bending1','bending2','cycling','lying','sitting','standing','walking']\n",
    "header=['Time','avg_rss12','var_rss12','avg_rss13','var_rss13','avg_rss23','var_rss23','Activity']\n",
    "path=\"AReM\"\n",
    "all_csv=[]\n",
    "for activity in activities:\n",
    "    fullpath=os.path.join(path,activity)\n",
    "    for f in os.listdir(fullpath):\n",
    "        paths=os.path.join(fullpath,f)\n",
    "        df=pd.read_csv(paths,skiprows=5,error_bad_lines=False,header=None)\n",
    "        df[7]=activity\n",
    "        all_csv.append(df)\n",
    "main_df=pd.DataFrame(pd.concat(all_csv,sort=False,axis = 0,ignore_index=True))\n",
    "main_df.columns=header\n",
    "main_df.to_csv(\"Activity.csv\")"
   ]
  },
  {
   "cell_type": "code",
   "execution_count": 3,
   "id": "a73868d7",
   "metadata": {},
   "outputs": [],
   "source": [
    "activity=pd.read_csv('Activity.csv')"
   ]
  },
  {
   "cell_type": "code",
   "execution_count": 4,
   "id": "b94c35e5",
   "metadata": {},
   "outputs": [
    {
     "data": {
      "text/plain": [
       "(41757, 9)"
      ]
     },
     "execution_count": 4,
     "metadata": {},
     "output_type": "execute_result"
    }
   ],
   "source": [
    "activity.shape"
   ]
  },
  {
   "cell_type": "code",
   "execution_count": 5,
   "id": "cd9f6592",
   "metadata": {},
   "outputs": [],
   "source": [
    "activity=activity.drop_duplicates()"
   ]
  },
  {
   "cell_type": "code",
   "execution_count": 6,
   "id": "efb82a29",
   "metadata": {},
   "outputs": [
    {
     "data": {
      "text/plain": [
       "(41757, 9)"
      ]
     },
     "execution_count": 6,
     "metadata": {},
     "output_type": "execute_result"
    }
   ],
   "source": [
    "activity.shape"
   ]
  },
  {
   "cell_type": "code",
   "execution_count": 7,
   "id": "32e0730f",
   "metadata": {},
   "outputs": [
    {
     "data": {
      "text/html": [
       "<div>\n",
       "<style scoped>\n",
       "    .dataframe tbody tr th:only-of-type {\n",
       "        vertical-align: middle;\n",
       "    }\n",
       "\n",
       "    .dataframe tbody tr th {\n",
       "        vertical-align: top;\n",
       "    }\n",
       "\n",
       "    .dataframe thead th {\n",
       "        text-align: right;\n",
       "    }\n",
       "</style>\n",
       "<table border=\"1\" class=\"dataframe\">\n",
       "  <thead>\n",
       "    <tr style=\"text-align: right;\">\n",
       "      <th></th>\n",
       "      <th>Unnamed: 0</th>\n",
       "      <th>Time</th>\n",
       "      <th>avg_rss12</th>\n",
       "      <th>var_rss12</th>\n",
       "      <th>avg_rss13</th>\n",
       "      <th>var_rss13</th>\n",
       "      <th>avg_rss23</th>\n",
       "      <th>var_rss23</th>\n",
       "      <th>Activity</th>\n",
       "    </tr>\n",
       "  </thead>\n",
       "  <tbody>\n",
       "    <tr>\n",
       "      <th>0</th>\n",
       "      <td>0</td>\n",
       "      <td>0</td>\n",
       "      <td>39.25</td>\n",
       "      <td>0.43</td>\n",
       "      <td>22.75</td>\n",
       "      <td>0.43</td>\n",
       "      <td>33.75</td>\n",
       "      <td>1.3</td>\n",
       "      <td>bending1</td>\n",
       "    </tr>\n",
       "    <tr>\n",
       "      <th>1</th>\n",
       "      <td>1</td>\n",
       "      <td>250</td>\n",
       "      <td>39.25</td>\n",
       "      <td>0.43</td>\n",
       "      <td>23.00</td>\n",
       "      <td>0.00</td>\n",
       "      <td>33.00</td>\n",
       "      <td>0.0</td>\n",
       "      <td>bending1</td>\n",
       "    </tr>\n",
       "    <tr>\n",
       "      <th>2</th>\n",
       "      <td>2</td>\n",
       "      <td>500</td>\n",
       "      <td>39.25</td>\n",
       "      <td>0.43</td>\n",
       "      <td>23.25</td>\n",
       "      <td>0.43</td>\n",
       "      <td>33.00</td>\n",
       "      <td>0.0</td>\n",
       "      <td>bending1</td>\n",
       "    </tr>\n",
       "    <tr>\n",
       "      <th>3</th>\n",
       "      <td>3</td>\n",
       "      <td>750</td>\n",
       "      <td>39.50</td>\n",
       "      <td>0.50</td>\n",
       "      <td>23.00</td>\n",
       "      <td>0.71</td>\n",
       "      <td>33.00</td>\n",
       "      <td>0.0</td>\n",
       "      <td>bending1</td>\n",
       "    </tr>\n",
       "    <tr>\n",
       "      <th>4</th>\n",
       "      <td>4</td>\n",
       "      <td>1000</td>\n",
       "      <td>39.50</td>\n",
       "      <td>0.50</td>\n",
       "      <td>24.00</td>\n",
       "      <td>0.00</td>\n",
       "      <td>33.00</td>\n",
       "      <td>0.0</td>\n",
       "      <td>bending1</td>\n",
       "    </tr>\n",
       "  </tbody>\n",
       "</table>\n",
       "</div>"
      ],
      "text/plain": [
       "   Unnamed: 0  Time  avg_rss12  var_rss12  avg_rss13  var_rss13  avg_rss23  \\\n",
       "0           0     0      39.25       0.43      22.75       0.43      33.75   \n",
       "1           1   250      39.25       0.43      23.00       0.00      33.00   \n",
       "2           2   500      39.25       0.43      23.25       0.43      33.00   \n",
       "3           3   750      39.50       0.50      23.00       0.71      33.00   \n",
       "4           4  1000      39.50       0.50      24.00       0.00      33.00   \n",
       "\n",
       "   var_rss23  Activity  \n",
       "0        1.3  bending1  \n",
       "1        0.0  bending1  \n",
       "2        0.0  bending1  \n",
       "3        0.0  bending1  \n",
       "4        0.0  bending1  "
      ]
     },
     "execution_count": 7,
     "metadata": {},
     "output_type": "execute_result"
    }
   ],
   "source": [
    "activity.head()"
   ]
  },
  {
   "cell_type": "code",
   "execution_count": 8,
   "id": "da489cc7",
   "metadata": {},
   "outputs": [
    {
     "data": {
      "text/html": [
       "<div>\n",
       "<style scoped>\n",
       "    .dataframe tbody tr th:only-of-type {\n",
       "        vertical-align: middle;\n",
       "    }\n",
       "\n",
       "    .dataframe tbody tr th {\n",
       "        vertical-align: top;\n",
       "    }\n",
       "\n",
       "    .dataframe thead th {\n",
       "        text-align: right;\n",
       "    }\n",
       "</style>\n",
       "<table border=\"1\" class=\"dataframe\">\n",
       "  <thead>\n",
       "    <tr style=\"text-align: right;\">\n",
       "      <th></th>\n",
       "      <th>Unnamed: 0</th>\n",
       "      <th>Time</th>\n",
       "      <th>avg_rss12</th>\n",
       "      <th>var_rss12</th>\n",
       "      <th>avg_rss13</th>\n",
       "      <th>var_rss13</th>\n",
       "      <th>avg_rss23</th>\n",
       "      <th>var_rss23</th>\n",
       "      <th>Activity</th>\n",
       "    </tr>\n",
       "  </thead>\n",
       "  <tbody>\n",
       "    <tr>\n",
       "      <th>0</th>\n",
       "      <td>0</td>\n",
       "      <td>0</td>\n",
       "      <td>39.25</td>\n",
       "      <td>0.43</td>\n",
       "      <td>22.75</td>\n",
       "      <td>0.43</td>\n",
       "      <td>33.75</td>\n",
       "      <td>1.3</td>\n",
       "      <td>bending1</td>\n",
       "    </tr>\n",
       "    <tr>\n",
       "      <th>1</th>\n",
       "      <td>1</td>\n",
       "      <td>250</td>\n",
       "      <td>39.25</td>\n",
       "      <td>0.43</td>\n",
       "      <td>23.00</td>\n",
       "      <td>0.00</td>\n",
       "      <td>33.00</td>\n",
       "      <td>0.0</td>\n",
       "      <td>bending1</td>\n",
       "    </tr>\n",
       "    <tr>\n",
       "      <th>2</th>\n",
       "      <td>2</td>\n",
       "      <td>500</td>\n",
       "      <td>39.25</td>\n",
       "      <td>0.43</td>\n",
       "      <td>23.25</td>\n",
       "      <td>0.43</td>\n",
       "      <td>33.00</td>\n",
       "      <td>0.0</td>\n",
       "      <td>bending1</td>\n",
       "    </tr>\n",
       "    <tr>\n",
       "      <th>3</th>\n",
       "      <td>3</td>\n",
       "      <td>750</td>\n",
       "      <td>39.50</td>\n",
       "      <td>0.50</td>\n",
       "      <td>23.00</td>\n",
       "      <td>0.71</td>\n",
       "      <td>33.00</td>\n",
       "      <td>0.0</td>\n",
       "      <td>bending1</td>\n",
       "    </tr>\n",
       "    <tr>\n",
       "      <th>4</th>\n",
       "      <td>4</td>\n",
       "      <td>1000</td>\n",
       "      <td>39.50</td>\n",
       "      <td>0.50</td>\n",
       "      <td>24.00</td>\n",
       "      <td>0.00</td>\n",
       "      <td>33.00</td>\n",
       "      <td>0.0</td>\n",
       "      <td>bending1</td>\n",
       "    </tr>\n",
       "  </tbody>\n",
       "</table>\n",
       "</div>"
      ],
      "text/plain": [
       "   Unnamed: 0  Time  avg_rss12  var_rss12  avg_rss13  var_rss13  avg_rss23  \\\n",
       "0           0     0      39.25       0.43      22.75       0.43      33.75   \n",
       "1           1   250      39.25       0.43      23.00       0.00      33.00   \n",
       "2           2   500      39.25       0.43      23.25       0.43      33.00   \n",
       "3           3   750      39.50       0.50      23.00       0.71      33.00   \n",
       "4           4  1000      39.50       0.50      24.00       0.00      33.00   \n",
       "\n",
       "   var_rss23  Activity  \n",
       "0        1.3  bending1  \n",
       "1        0.0  bending1  \n",
       "2        0.0  bending1  \n",
       "3        0.0  bending1  \n",
       "4        0.0  bending1  "
      ]
     },
     "execution_count": 8,
     "metadata": {},
     "output_type": "execute_result"
    }
   ],
   "source": [
    "activity.head()"
   ]
  },
  {
   "cell_type": "code",
   "execution_count": 9,
   "id": "f0b72330",
   "metadata": {},
   "outputs": [
    {
     "name": "stdout",
     "output_type": "stream",
     "text": [
      "<class 'pandas.core.frame.DataFrame'>\n",
      "Int64Index: 41757 entries, 0 to 41756\n",
      "Data columns (total 9 columns):\n",
      " #   Column      Non-Null Count  Dtype  \n",
      "---  ------      --------------  -----  \n",
      " 0   Unnamed: 0  41757 non-null  int64  \n",
      " 1   Time        41757 non-null  int64  \n",
      " 2   avg_rss12   41757 non-null  float64\n",
      " 3   var_rss12   41757 non-null  float64\n",
      " 4   avg_rss13   41757 non-null  float64\n",
      " 5   var_rss13   41757 non-null  float64\n",
      " 6   avg_rss23   41757 non-null  float64\n",
      " 7   var_rss23   41757 non-null  float64\n",
      " 8   Activity    41757 non-null  object \n",
      "dtypes: float64(6), int64(2), object(1)\n",
      "memory usage: 3.2+ MB\n"
     ]
    }
   ],
   "source": [
    "activity.info()"
   ]
  },
  {
   "cell_type": "code",
   "execution_count": 10,
   "id": "83d6ca8b",
   "metadata": {},
   "outputs": [
    {
     "data": {
      "text/html": [
       "<div>\n",
       "<style scoped>\n",
       "    .dataframe tbody tr th:only-of-type {\n",
       "        vertical-align: middle;\n",
       "    }\n",
       "\n",
       "    .dataframe tbody tr th {\n",
       "        vertical-align: top;\n",
       "    }\n",
       "\n",
       "    .dataframe thead th {\n",
       "        text-align: right;\n",
       "    }\n",
       "</style>\n",
       "<table border=\"1\" class=\"dataframe\">\n",
       "  <thead>\n",
       "    <tr style=\"text-align: right;\">\n",
       "      <th></th>\n",
       "      <th>Unnamed: 0</th>\n",
       "      <th>Time</th>\n",
       "      <th>avg_rss12</th>\n",
       "      <th>var_rss12</th>\n",
       "      <th>avg_rss13</th>\n",
       "      <th>var_rss13</th>\n",
       "      <th>avg_rss23</th>\n",
       "      <th>var_rss23</th>\n",
       "    </tr>\n",
       "  </thead>\n",
       "  <tbody>\n",
       "    <tr>\n",
       "      <th>count</th>\n",
       "      <td>41757.000000</td>\n",
       "      <td>41757.000000</td>\n",
       "      <td>41757.000000</td>\n",
       "      <td>41757.000000</td>\n",
       "      <td>41757.000000</td>\n",
       "      <td>41757.000000</td>\n",
       "      <td>41757.000000</td>\n",
       "      <td>41757.000000</td>\n",
       "    </tr>\n",
       "    <tr>\n",
       "      <th>mean</th>\n",
       "      <td>20878.000000</td>\n",
       "      <td>59873.242810</td>\n",
       "      <td>39.021258</td>\n",
       "      <td>1.472967</td>\n",
       "      <td>14.348149</td>\n",
       "      <td>1.513225</td>\n",
       "      <td>16.010977</td>\n",
       "      <td>1.631255</td>\n",
       "    </tr>\n",
       "    <tr>\n",
       "      <th>std</th>\n",
       "      <td>12054.351932</td>\n",
       "      <td>34639.378229</td>\n",
       "      <td>6.297586</td>\n",
       "      <td>2.055456</td>\n",
       "      <td>5.414405</td>\n",
       "      <td>1.644267</td>\n",
       "      <td>6.768380</td>\n",
       "      <td>1.642690</td>\n",
       "    </tr>\n",
       "    <tr>\n",
       "      <th>min</th>\n",
       "      <td>0.000000</td>\n",
       "      <td>0.000000</td>\n",
       "      <td>0.000000</td>\n",
       "      <td>0.000000</td>\n",
       "      <td>0.000000</td>\n",
       "      <td>0.000000</td>\n",
       "      <td>0.000000</td>\n",
       "      <td>0.000000</td>\n",
       "    </tr>\n",
       "    <tr>\n",
       "      <th>25%</th>\n",
       "      <td>10439.000000</td>\n",
       "      <td>30000.000000</td>\n",
       "      <td>35.250000</td>\n",
       "      <td>0.430000</td>\n",
       "      <td>11.500000</td>\n",
       "      <td>0.430000</td>\n",
       "      <td>12.000000</td>\n",
       "      <td>0.470000</td>\n",
       "    </tr>\n",
       "    <tr>\n",
       "      <th>50%</th>\n",
       "      <td>20878.000000</td>\n",
       "      <td>59750.000000</td>\n",
       "      <td>40.000000</td>\n",
       "      <td>0.500000</td>\n",
       "      <td>15.000000</td>\n",
       "      <td>0.830000</td>\n",
       "      <td>15.750000</td>\n",
       "      <td>1.000000</td>\n",
       "    </tr>\n",
       "    <tr>\n",
       "      <th>75%</th>\n",
       "      <td>31317.000000</td>\n",
       "      <td>89750.000000</td>\n",
       "      <td>44.000000</td>\n",
       "      <td>1.870000</td>\n",
       "      <td>18.000000</td>\n",
       "      <td>2.350000</td>\n",
       "      <td>19.250000</td>\n",
       "      <td>2.360000</td>\n",
       "    </tr>\n",
       "    <tr>\n",
       "      <th>max</th>\n",
       "      <td>41756.000000</td>\n",
       "      <td>119750.000000</td>\n",
       "      <td>56.250000</td>\n",
       "      <td>17.240000</td>\n",
       "      <td>35.000000</td>\n",
       "      <td>11.420000</td>\n",
       "      <td>40.330000</td>\n",
       "      <td>13.610000</td>\n",
       "    </tr>\n",
       "  </tbody>\n",
       "</table>\n",
       "</div>"
      ],
      "text/plain": [
       "         Unnamed: 0           Time     avg_rss12     var_rss12     avg_rss13  \\\n",
       "count  41757.000000   41757.000000  41757.000000  41757.000000  41757.000000   \n",
       "mean   20878.000000   59873.242810     39.021258      1.472967     14.348149   \n",
       "std    12054.351932   34639.378229      6.297586      2.055456      5.414405   \n",
       "min        0.000000       0.000000      0.000000      0.000000      0.000000   \n",
       "25%    10439.000000   30000.000000     35.250000      0.430000     11.500000   \n",
       "50%    20878.000000   59750.000000     40.000000      0.500000     15.000000   \n",
       "75%    31317.000000   89750.000000     44.000000      1.870000     18.000000   \n",
       "max    41756.000000  119750.000000     56.250000     17.240000     35.000000   \n",
       "\n",
       "          var_rss13     avg_rss23     var_rss23  \n",
       "count  41757.000000  41757.000000  41757.000000  \n",
       "mean       1.513225     16.010977      1.631255  \n",
       "std        1.644267      6.768380      1.642690  \n",
       "min        0.000000      0.000000      0.000000  \n",
       "25%        0.430000     12.000000      0.470000  \n",
       "50%        0.830000     15.750000      1.000000  \n",
       "75%        2.350000     19.250000      2.360000  \n",
       "max       11.420000     40.330000     13.610000  "
      ]
     },
     "execution_count": 10,
     "metadata": {},
     "output_type": "execute_result"
    }
   ],
   "source": [
    "activity.describe()"
   ]
  },
  {
   "cell_type": "code",
   "execution_count": 11,
   "id": "27dcec48",
   "metadata": {},
   "outputs": [],
   "source": [
    "dic={'bending1':0,\n",
    "     'bending2':1,\n",
    "     'cycling':2,\n",
    "     'lying':3,\n",
    "     'sitting':4,\n",
    "     'standing':5,\n",
    "     'walking':6}"
   ]
  },
  {
   "cell_type": "code",
   "execution_count": 12,
   "id": "0d83c18f",
   "metadata": {},
   "outputs": [],
   "source": [
    "X=activity.drop('Activity',axis=1)\n",
    "y=activity['Activity']"
   ]
  },
  {
   "cell_type": "code",
   "execution_count": 13,
   "id": "8cbf498f",
   "metadata": {},
   "outputs": [],
   "source": [
    "y=y.map(dic)"
   ]
  },
  {
   "cell_type": "code",
   "execution_count": 14,
   "id": "fd6b23b7",
   "metadata": {},
   "outputs": [],
   "source": [
    "X=X.drop(['Unnamed: 0','Time'],axis=1)"
   ]
  },
  {
   "cell_type": "code",
   "execution_count": 15,
   "id": "54589bd9",
   "metadata": {},
   "outputs": [
    {
     "data": {
      "text/html": [
       "<div>\n",
       "<style scoped>\n",
       "    .dataframe tbody tr th:only-of-type {\n",
       "        vertical-align: middle;\n",
       "    }\n",
       "\n",
       "    .dataframe tbody tr th {\n",
       "        vertical-align: top;\n",
       "    }\n",
       "\n",
       "    .dataframe thead th {\n",
       "        text-align: right;\n",
       "    }\n",
       "</style>\n",
       "<table border=\"1\" class=\"dataframe\">\n",
       "  <thead>\n",
       "    <tr style=\"text-align: right;\">\n",
       "      <th></th>\n",
       "      <th>avg_rss12</th>\n",
       "      <th>var_rss12</th>\n",
       "      <th>avg_rss13</th>\n",
       "      <th>var_rss13</th>\n",
       "      <th>avg_rss23</th>\n",
       "      <th>var_rss23</th>\n",
       "    </tr>\n",
       "  </thead>\n",
       "  <tbody>\n",
       "    <tr>\n",
       "      <th>0</th>\n",
       "      <td>39.25</td>\n",
       "      <td>0.43</td>\n",
       "      <td>22.75</td>\n",
       "      <td>0.43</td>\n",
       "      <td>33.75</td>\n",
       "      <td>1.3</td>\n",
       "    </tr>\n",
       "    <tr>\n",
       "      <th>1</th>\n",
       "      <td>39.25</td>\n",
       "      <td>0.43</td>\n",
       "      <td>23.00</td>\n",
       "      <td>0.00</td>\n",
       "      <td>33.00</td>\n",
       "      <td>0.0</td>\n",
       "    </tr>\n",
       "    <tr>\n",
       "      <th>2</th>\n",
       "      <td>39.25</td>\n",
       "      <td>0.43</td>\n",
       "      <td>23.25</td>\n",
       "      <td>0.43</td>\n",
       "      <td>33.00</td>\n",
       "      <td>0.0</td>\n",
       "    </tr>\n",
       "    <tr>\n",
       "      <th>3</th>\n",
       "      <td>39.50</td>\n",
       "      <td>0.50</td>\n",
       "      <td>23.00</td>\n",
       "      <td>0.71</td>\n",
       "      <td>33.00</td>\n",
       "      <td>0.0</td>\n",
       "    </tr>\n",
       "    <tr>\n",
       "      <th>4</th>\n",
       "      <td>39.50</td>\n",
       "      <td>0.50</td>\n",
       "      <td>24.00</td>\n",
       "      <td>0.00</td>\n",
       "      <td>33.00</td>\n",
       "      <td>0.0</td>\n",
       "    </tr>\n",
       "  </tbody>\n",
       "</table>\n",
       "</div>"
      ],
      "text/plain": [
       "   avg_rss12  var_rss12  avg_rss13  var_rss13  avg_rss23  var_rss23\n",
       "0      39.25       0.43      22.75       0.43      33.75        1.3\n",
       "1      39.25       0.43      23.00       0.00      33.00        0.0\n",
       "2      39.25       0.43      23.25       0.43      33.00        0.0\n",
       "3      39.50       0.50      23.00       0.71      33.00        0.0\n",
       "4      39.50       0.50      24.00       0.00      33.00        0.0"
      ]
     },
     "execution_count": 15,
     "metadata": {},
     "output_type": "execute_result"
    }
   ],
   "source": [
    "X.head()"
   ]
  },
  {
   "cell_type": "code",
   "execution_count": 16,
   "id": "ed71164d",
   "metadata": {},
   "outputs": [
    {
     "data": {
      "text/plain": [
       "<matplotlib.axes._subplots.AxesSubplot at 0x1dd086498b0>"
      ]
     },
     "execution_count": 16,
     "metadata": {},
     "output_type": "execute_result"
    },
    {
     "data": {
      "image/png": "[encoded data removed]",
      "text/plain": [
       "<Figure size 720x720 with 1 Axes>"
      ]
     },
     "metadata": {
      "needs_background": "light"
     },
     "output_type": "display_data"
    }
   ],
   "source": [
    "fig,ax= plt.subplots(figsize=(10,10))\n",
    "sns.boxplot(data=X,ax=ax)"
   ]
  },
  {
   "cell_type": "code",
   "execution_count": 17,
   "id": "6e20f6cd",
   "metadata": {},
   "outputs": [],
   "source": [
    "def IQR(col):\n",
    "    Q1=X[col].quantile(0.25)\n",
    "    Q3=X[col].quantile(0.75)\n",
    "    IQR=Q3-Q1\n",
    "    upperlimit=X[col].mean()+1.5 *IQR\n",
    "    lowerlimit=X[col].mean()-1.5 *IQR\n",
    "    X[col]=np.where(X[col]<lowerlimit,X[col].median(),X[col])\n",
    "    X[col]=np.where(X[col]>upperlimit,X[col].median(),X[col])\n",
    "\n",
    "    "
   ]
  },
  {
   "cell_type": "code",
   "execution_count": 18,
   "id": "9155aa68",
   "metadata": {},
   "outputs": [
    {
     "data": {
      "text/plain": [
       "<matplotlib.axes._subplots.AxesSubplot at 0x1dd07847ca0>"
      ]
     },
     "execution_count": 18,
     "metadata": {},
     "output_type": "execute_result"
    },
    {
     "data": {
      "image/png": "[encoded data removed]",
      "text/plain": [
       "<Figure size 720x720 with 1 Axes>"
      ]
     },
     "metadata": {
      "needs_background": "light"
     },
     "output_type": "display_data"
    }
   ],
   "source": [
    "fig,ax= plt.subplots(figsize=(10,10))\n",
    "sns.boxplot(data=X,ax=ax)"
   ]
  },
  {
   "cell_type": "code",
   "execution_count": 19,
   "id": "055ccd7e",
   "metadata": {},
   "outputs": [],
   "source": [
    "import numpy as np\n",
    "features=[\"avg_rss12\",\"var_rss12\",\"avg_rss13\",\"var_rss13\",\"avg_rss23\",\"var_rss23\"]\n",
    "for col in features:\n",
    "    IQR(col)"
   ]
  },
  {
   "cell_type": "code",
   "execution_count": 20,
   "id": "98957d59",
   "metadata": {},
   "outputs": [
    {
     "data": {
      "text/plain": [
       "<matplotlib.axes._subplots.AxesSubplot at 0x1dd083db1f0>"
      ]
     },
     "execution_count": 20,
     "metadata": {},
     "output_type": "execute_result"
    },
    {
     "data": {
      "image/png": "[encoded data removed]",
      "text/plain": [
       "<Figure size 720x720 with 1 Axes>"
      ]
     },
     "metadata": {
      "needs_background": "light"
     },
     "output_type": "display_data"
    }
   ],
   "source": [
    "fig,ax= plt.subplots(figsize=(10,10))\n",
    "sns.boxplot(data=X,ax=ax)"
   ]
  },
  {
   "cell_type": "code",
   "execution_count": 21,
   "id": "9b3b6794",
   "metadata": {},
   "outputs": [],
   "source": [
    "from sklearn.preprocessing import StandardScaler\n",
    "scaler=StandardScaler()\n",
    "X_scaled=scaler.fit_transform(X)\n",
    "X=pd.DataFrame(X_scaled)"
   ]
  },
  {
   "cell_type": "code",
   "execution_count": 22,
   "id": "3db669bf",
   "metadata": {},
   "outputs": [],
   "source": [
    "\n",
    "X=pd.DataFrame(X_scaled)"
   ]
  },
  {
   "cell_type": "code",
   "execution_count": 35,
   "id": "c3eb8715",
   "metadata": {},
   "outputs": [],
   "source": [
    "import os\n",
    "import time\n",
    "import re\n",
    "import numpy as np\n",
    "import pandas as pd\n",
    "import matplotlib.pyplot as plt\n",
    "from tqdm import tqdm\n",
    "\n",
    "from sklearn.feature_extraction.text import CountVectorizer, TfidfVectorizer\n",
    "from sklearn import preprocessing\n",
    "from sklearn.model_selection import train_test_split, StratifiedKFold, KFold\n",
    "\n",
    "from sklearn.ensemble import RandomForestClassifier, GradientBoostingClassifier\n",
    "\n",
    "\n",
    "from sklearn.metrics import classification_report\n",
    "from sklearn.metrics import confusion_matrix\n",
    "from sklearn.metrics import plot_confusion_matrix\n",
    "from sklearn.metrics import precision_recall_fscore_support as score"
   ]
  },
  {
   "cell_type": "code",
   "execution_count": 36,
   "id": "9b070da2",
   "metadata": {},
   "outputs": [],
   "source": [
    "def train_test_model(model, X_train, X_test, y_train, y_test,labels):\n",
    "    \"\"\" Train and test the model using the training and test data sets. Return the predictions, accuracy and metric reports. \"\"\"\n",
    "    print('Start training...', end='')\n",
    "    model.fit(X_train, y_train)\n",
    "    print('done!')\n",
    "    print('Start testing...', end='')\n",
    "    predictions = model.predict(X_test)\n",
    "    accuracy = model.score(X_test, y_test)\n",
    "    metrics_report = classification_report(y_test, predictions, target_names=labels)\n",
    "    precision, recall, fscore, train_support = score(y_test, predictions, average='weighted')\n",
    "    print('done!')\n",
    "    return predictions, accuracy, metrics_report, (precision, recall, fscore)"
   ]
  },
  {
   "cell_type": "code",
   "execution_count": 37,
   "id": "6060f399",
   "metadata": {},
   "outputs": [
    {
     "name": "stdout",
     "output_type": "stream",
     "text": [
      "Training set Shape: (33405, 6)  | Test set Shape: (8352, 6)\n"
     ]
    }
   ],
   "source": [
    "# Split the dataset\n",
    "X_train, X_test, y_train, y_test = train_test_split(X, y, test_size=0.2, stratify=y)\n",
    "print('Training set Shape: {}  | Test set Shape: {}'.format(X_train.shape, X_test.shape))"
   ]
  },
  {
   "cell_type": "code",
   "execution_count": 38,
   "id": "731ec597",
   "metadata": {},
   "outputs": [],
   "source": [
    "labels=['bending1',\n",
    "     'bending2',\n",
    "     'cycling',\n",
    "     'lying',\n",
    "     'sitting',\n",
    "     'standing',\n",
    "     'walking']"
   ]
  },
  {
   "cell_type": "code",
   "execution_count": 47,
   "id": "f5c8f092",
   "metadata": {},
   "outputs": [
    {
     "name": "stdout",
     "output_type": "stream",
     "text": [
      "Start training...done!\n",
      "Start testing...done!\n",
      "Total time: 2.41s\n",
      "accuracy: 0.7590996168582376\n",
      "====================================================================================================\n",
      "              precision    recall  f1-score   support\n",
      "\n",
      "    bending1       0.86      0.83      0.84       672\n",
      "    bending2       0.84      0.70      0.77       480\n",
      "     cycling       0.66      0.66      0.66      1440\n",
      "       lying       0.91      0.97      0.94      1440\n",
      "     sitting       0.71      0.70      0.70      1440\n",
      "    standing       0.75      0.73      0.74      1440\n",
      "     walking       0.69      0.72      0.71      1440\n",
      "\n",
      "    accuracy                           0.76      8352\n",
      "   macro avg       0.77      0.76      0.77      8352\n",
      "weighted avg       0.76      0.76      0.76      8352\n",
      "\n"
     ]
    },
    {
     "data": {
      "image/png": "[encoded data removed]",
      "text/plain": [
       "<Figure size 432x288 with 2 Axes>"
      ]
     },
     "metadata": {
      "needs_background": "light"
     },
     "output_type": "display_data"
    }
   ],
   "source": [
    "rf_model = RandomForestClassifier(n_estimators=100, max_depth=100, min_samples_split=10, n_jobs=-1, verbose=0)\n",
    "st_time = time.time()\n",
    "predictions, accuracy, metrics_report, rf_prf = train_test_model(rf_model, X_train, X_test, y_train, y_test, labels)\n",
    "en_time = time.time()\n",
    "print('Total time: {:.2f}s'.format(en_time-st_time))\n",
    "print('accuracy: {}'.format(accuracy))\n",
    "print('='*100)\n",
    "print(metrics_report)\n",
    "plot_confusion_matrix(rf_model, X_test, y_test, display_labels=labels, xticks_rotation='vertical', cmap=\"BuPu\")\n",
    "plt.show()"
   ]
  },
  {
   "cell_type": "code",
   "execution_count": 53,
   "id": "b26f3e88",
   "metadata": {},
   "outputs": [],
   "source": [
    "# loading library\n",
    "import pickle"
   ]
  },
  {
   "cell_type": "code",
   "execution_count": 54,
   "id": "c23c3da0",
   "metadata": {},
   "outputs": [],
   "source": [
    "# create an iterator object with write permission and save SVM \n",
    "with open('ActivityRecognition', 'wb') as files:\n",
    "    pickle.dump(rf_model, files)"
   ]
  },
  {
   "cell_type": "code",
   "execution_count": null,
   "id": "86bbee3b",
   "metadata": {},
   "outputs": [],
   "source": []
  }
 ],
 "metadata": {
  "kernelspec": {
   "display_name": "Python 3 (ipykernel)",
   "language": "python",
   "name": "python3"
  },
  "language_info": {
   "codemirror_mode": {
    "name": "ipython",
    "version": 3
   },
   "file_extension": ".py",
   "mimetype": "text/x-python",
   "name": "python",
   "nbconvert_exporter": "python",
   "pygments_lexer": "ipython3",
   "version": "3.8.8"
  }
 },
 "nbformat": 4,
 "nbformat_minor": 5
}
